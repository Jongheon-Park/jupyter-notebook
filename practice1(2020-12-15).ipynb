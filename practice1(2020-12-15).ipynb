{
 "cells": [
  {
   "cell_type": "markdown",
   "metadata": {},
   "source": [
    "# coding=utf-8 \n",
    "# 둥\n",
    "\n",
    "import torch\n",
    "from torch.utils.data import Dataset\n",
    "\n",
    "MSCOCO_IMGFEAT_ROOT = 1048576\n",
    "SPLIT2NAME = {\n",
    "    'train': 'train2014',\n",
    "    'valid': 'val2014',\n",
    "}\n",
    "\n",
    "class VQADataset:\n",
    "    \"\"\"\n",
    "    A VQA data example in json file:\n",
    "            \"answer_type\": \"other\",\n",
    "    \"\"\"\n",
    "    def __init__(self, splits: str):\n",
    "        self.name = splits\n",
    "        print('self.name = splits:', self.name, sep='\\t')\n",
    "        self.splits = splits.split(',')\n",
    "\n",
    "        # Loading datasets\n",
    "        self.data = []\n",
    "        for split in self.splits:\n",
    "            self.data.extend(json.load(open(\"data/vqa/comn_sents_%s.json\" % split)))\n",
    "        print(\"Load %d data from split(s) %s.\" % (len(self.data), self.name))\n",
    "\n",
    "        # Convert list to dict (for evaluation)\n",
    "        self.id2datum = {\n",
    "            datum['question_id']: datum\n",
    "            for datum in self.data\n",
    "        }\n",
    "\n",
    "        # Answers\n",
    "        self.ans2label = json.load(open(\"data/vqa/trainval_ans2label.json\"))\n",
    "        self.label2ans = json.load(open(\"data/vqa/trainval_label2ans.json\"))\n",
    "        assert len(self.ans2label) == len(self.label2ans)\n",
    "\n",
    "    @property\n",
    "    def num_answers(self):\n",
    "        return len(self.ans2label)\n",
    "\n",
    "    def __len__(self):\n",
    "        return len(self.data)"
   ]
  },
  {
   "cell_type": "markdown",
   "metadata": {},
   "source": [
    "print('what?', end='|t')"
   ]
  },
  {
   "cell_type": "markdown",
   "metadata": {},
   "source": []
  },
  {
   "cell_type": "code",
   "execution_count": null,
   "metadata": {},
   "outputs": [],
   "source": []
  }
 ],
 "metadata": {
  "kernelspec": {
   "display_name": "Python 3",
   "language": "python",
   "name": "python3"
  },
  "language_info": {
   "codemirror_mode": {
    "name": "ipython",
    "version": 3
   },
   "file_extension": ".py",
   "mimetype": "text/x-python",
   "name": "python",
   "nbconvert_exporter": "python",
   "pygments_lexer": "ipython3",
   "version": "3.7.4"
  }
 },
 "nbformat": 4,
 "nbformat_minor": 4
}
