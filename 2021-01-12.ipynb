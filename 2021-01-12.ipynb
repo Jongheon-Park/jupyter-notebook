{
 "cells": [
  {
   "cell_type": "code",
   "execution_count": 1,
   "metadata": {},
   "outputs": [],
   "source": [
    "#4.파일에서 문자열 한 줄씩 읽기"
   ]
  },
  {
   "cell_type": "code",
   "execution_count": 4,
   "metadata": {},
   "outputs": [],
   "source": [
    "#readline()  실행한 횟수만큼 문자열을 한 줄씩 읽는다."
   ]
  },
  {
   "cell_type": "code",
   "execution_count": 9,
   "metadata": {},
   "outputs": [],
   "source": [
    "f = open('two_times_table.txt','w')\n",
    "for num in range(1,6):\n",
    "    format_string = \"2 x {0} = {1}\\n\".format(num,2*num)\n",
    "    f.write(format_string)\n",
    "f.close()"
   ]
  },
  {
   "cell_type": "code",
   "execution_count": 10,
   "metadata": {},
   "outputs": [
    {
     "name": "stdout",
     "output_type": "stream",
     "text": [
      "2 x 1 = 2\n",
      "2 x 2 = 4\n"
     ]
    }
   ],
   "source": [
    "f = open(\"two_times_table.txt\")         #파일을 읽기 모드로 열기\n",
    "line1 = f.readline()                    #한 줄씩 문자열을 읽기\n",
    "line2 = f.readline()                    \n",
    "f.close()                               #파일 닫기\n",
    "print(line1, end=\"\")                    #한 줄씩 문자열 출력(줄 바꿈 안 함)\n",
    "print(line2, end=\"\")"
   ]
  },
  {
   "cell_type": "code",
   "execution_count": 13,
   "metadata": {},
   "outputs": [
    {
     "name": "stdout",
     "output_type": "stream",
     "text": [
      "2 x 1 = 2\n",
      "2 x 2 = 4\n",
      "2 x 3 = 6\n",
      "2 x 4 = 8\n",
      "2 x 5 = 10\n"
     ]
    }
   ],
   "source": [
    "f = open(\"two_times_table.txt\")      #파일을 읽기 모드로 열기\n",
    "line = f.readline()                  #문자열 한 줄 읽기\n",
    "while line:                          #line이 공백인지 검사해서 반복 여부 결정\n",
    "    print(line, end=\"\")              #문자열 한 줄 출력(줄 바꿈 안함)\n",
    "    line = f.readline()              #문자열 한 줄 읽기\n",
    "f.close()                            #파일 닫기"
   ]
  },
  {
   "cell_type": "code",
   "execution_count": 15,
   "metadata": {},
   "outputs": [
    {
     "name": "stdout",
     "output_type": "stream",
     "text": [
      "['2 x 1 = 2\\n', '2 x 2 = 4\\n', '2 x 3 = 6\\n', '2 x 4 = 8\\n', '2 x 5 = 10\\n']\n"
     ]
    }
   ],
   "source": [
    "f = open(\"two_times_table.txt\")      #파일을 읽기 모드로 열기\n",
    "lines = f.readlines()                #파일 전체 읽기(리스트로 반환)\n",
    "f.close()                            #파일 닫기\n",
    "\n",
    "print(lines)                         #리스트 변수 내용 출력"
   ]
  },
  {
   "cell_type": "code",
   "execution_count": 16,
   "metadata": {},
   "outputs": [
    {
     "name": "stdout",
     "output_type": "stream",
     "text": [
      "2 x 1 = 2\n",
      "2 x 2 = 4\n",
      "2 x 3 = 6\n",
      "2 x 4 = 8\n",
      "2 x 5 = 10\n"
     ]
    }
   ],
   "source": [
    "f = open(\"two_times_table.txt\")      #파일을 읽기 모드로 열기\n",
    "lines = f.readlines()                #파일 전체 읽기(리스트로 반환)\n",
    "f.close()                            #파일 닫기\n",
    "for line in lines:                   #리스트를 <반복 범위>로 지정\n",
    "    print(line, end=\"\")              #리스트 항목을 출력(줄 바꿈 안함)"
   ]
  },
  {
   "cell_type": "code",
   "execution_count": 17,
   "metadata": {},
   "outputs": [
    {
     "name": "stdout",
     "output_type": "stream",
     "text": [
      "2 x 1 = 2\n",
      "2 x 2 = 4\n",
      "2 x 3 = 6\n",
      "2 x 4 = 8\n",
      "2 x 5 = 10\n"
     ]
    }
   ],
   "source": [
    "f = open(\"two_times_table.txt\")      #파일을 읽기 모드로 열기\n",
    "for line in f.readlines():           #파일 전체를 읽고, 리스트 항목을 line 할당\n",
    "    print(line, end=\"\")              #리스트 항목을 출력(줄 바꿈 안 함)\n",
    "f.close()                            "
   ]
  },
  {
   "cell_type": "code",
   "execution_count": 18,
   "metadata": {},
   "outputs": [
    {
     "name": "stdout",
     "output_type": "stream",
     "text": [
      "2 x 1 = 2\n",
      "2 x 2 = 4\n",
      "2 x 3 = 6\n",
      "2 x 4 = 8\n",
      "2 x 5 = 10\n"
     ]
    }
   ],
   "source": [
    "f = open(\"two_times_table.txt\")     #파일을 읽기 모드로 열기\n",
    "for line in f:                      #파일 전체를 읽고, 리스트 항목을 line에 할당\n",
    "    print(line, end=\"\")             #line의 내용 출력(줄 바꿈 않함)\n",
    "f.close()                           #파일 닫기"
   ]
  },
  {
   "cell_type": "code",
   "execution_count": 20,
   "metadata": {},
   "outputs": [],
   "source": [
    "# with 문을 활용해 파일 읽고 쓰기"
   ]
  },
  {
   "cell_type": "code",
   "execution_count": 22,
   "metadata": {},
   "outputs": [],
   "source": [
    "f = open('myTextFile.txt', 'w')     # (1) 파일 열기\n",
    "f.write('File write/read text.')    # (2) 파일 쓰기\n",
    "f.close()                           # (3) 파일 닫기"
   ]
  },
  {
   "cell_type": "code",
   "execution_count": 23,
   "metadata": {},
   "outputs": [
    {
     "name": "stdout",
     "output_type": "stream",
     "text": [
      "File write/read text.\n"
     ]
    }
   ],
   "source": [
    "f = open('myTextFile.txt','r')\n",
    "test = f.read()\n",
    "f.close()\n",
    "print(test)"
   ]
  },
  {
   "cell_type": "code",
   "execution_count": 24,
   "metadata": {},
   "outputs": [],
   "source": [
    "# with 문의 활용"
   ]
  },
  {
   "cell_type": "code",
   "execution_count": 28,
   "metadata": {},
   "outputs": [],
   "source": [
    "with open('/workspace/jupyter-notebook/myPyCode/myTextFile2.txt', 'w') as f:          #(1)파일 열기\n",
    "    f.write('File read/write test2: line1\\n')                #(2)파일 쓰기\n",
    "    f.write('File read/write test2: line2\\n')\n",
    "    f.write('File read/write test2: line3\\n')"
   ]
  },
  {
   "cell_type": "code",
   "execution_count": 29,
   "metadata": {},
   "outputs": [
    {
     "name": "stdout",
     "output_type": "stream",
     "text": [
      "File read/write test2: line1\n",
      "File read/write test2: line2\n",
      "File read/write test2: line3\n",
      "\n"
     ]
    }
   ],
   "source": [
    "with open('/workspace/jupyter-notebook/myPyCode/myTextFile2.txt') as f:\n",
    "    file_string = f.read()\n",
    "    print(file_string)"
   ]
  },
  {
   "cell_type": "code",
   "execution_count": 32,
   "metadata": {},
   "outputs": [],
   "source": [
    "with open('/workspace/jupyter-notebook/myPyCode/myTextFile2.txt','w') as f:\n",
    "          for num in range(1,6):\n",
    "              format_string = \"3 x {0} = {1}\\n\".format(num, 3*num)\n",
    "              f.write(format_string)"
   ]
  },
  {
   "cell_type": "code",
   "execution_count": 33,
   "metadata": {},
   "outputs": [
    {
     "name": "stdout",
     "output_type": "stream",
     "text": [
      "3 x 1 = 3\n",
      "3 x 2 = 6\n",
      "3 x 3 = 9\n",
      "3 x 4 = 12\n",
      "3 x 5 = 15\n"
     ]
    }
   ],
   "source": [
    "with open('/workspace/jupyter-notebook/myPyCode/myTextFile2.txt','r') as f:\n",
    "    for line in f:\n",
    "        print(line, end=\"\")"
   ]
  },
  {
   "cell_type": "code",
   "execution_count": 38,
   "metadata": {},
   "outputs": [],
   "source": [
    "# 7. 함수\n",
    "# 함수 정의와 호출"
   ]
  },
  {
   "cell_type": "code",
   "execution_count": 39,
   "metadata": {},
   "outputs": [],
   "source": [
    "def my_func():\n",
    "    print(\"My first function!\")\n",
    "    print(\"This is a function.\")"
   ]
  },
  {
   "cell_type": "code",
   "execution_count": 40,
   "metadata": {},
   "outputs": [
    {
     "name": "stdout",
     "output_type": "stream",
     "text": [
      "My first function!\n",
      "This is a function.\n"
     ]
    }
   ],
   "source": [
    "my_func()"
   ]
  },
  {
   "cell_type": "code",
   "execution_count": 41,
   "metadata": {},
   "outputs": [],
   "source": [
    "def my_friend(friendName):\n",
    "    print(\"()는 나의 친구입니다.\".format(friendName))"
   ]
  },
  {
   "cell_type": "code",
   "execution_count": 42,
   "metadata": {},
   "outputs": [
    {
     "name": "stdout",
     "output_type": "stream",
     "text": [
      "()는 나의 친구입니다.\n",
      "()는 나의 친구입니다.\n"
     ]
    }
   ],
   "source": [
    "my_friend(\"철수\")\n",
    "my_friend(\"영미\")"
   ]
  },
  {
   "cell_type": "code",
   "execution_count": 49,
   "metadata": {},
   "outputs": [],
   "source": [
    "def my_student_info(name, school_ID, phoneNumber):\n",
    "    print(\"===================\")\n",
    "    print(\"-학생이름:\", name)\n",
    "    print(\"-학급번호:\", school_ID)\n",
    "    print(\"-전화번호:\", phoneNumber)"
   ]
  },
  {
   "cell_type": "code",
   "execution_count": 50,
   "metadata": {},
   "outputs": [
    {
     "name": "stdout",
     "output_type": "stream",
     "text": [
      "===================\n",
      "-학생이름: 현아\n",
      "-학급번호: 01\n",
      "-전화번호: 01-235-6789\n",
      "===================\n",
      "-학생이름: 진수\n",
      "-학급번호: 02\n",
      "-전화번호: 01-987-6543\n"
     ]
    }
   ],
   "source": [
    "my_student_info(\"현아\", \"01\", \"01-235-6789\")\n",
    "my_student_info(\"진수\", \"02\", \"01-987-6543\")"
   ]
  },
  {
   "cell_type": "code",
   "execution_count": 51,
   "metadata": {},
   "outputs": [],
   "source": [
    "# 인자도 있고 반환 값도 있는 함수"
   ]
  },
  {
   "cell_type": "code",
   "execution_count": 52,
   "metadata": {},
   "outputs": [],
   "source": [
    "def my_calc(x,y):\n",
    "    z = x*y\n",
    "    return z"
   ]
  },
  {
   "cell_type": "code",
   "execution_count": 53,
   "metadata": {},
   "outputs": [
    {
     "data": {
      "text/plain": [
       "12"
      ]
     },
     "execution_count": 53,
     "metadata": {},
     "output_type": "execute_result"
    }
   ],
   "source": [
    "my_calc(3,4)"
   ]
  },
  {
   "cell_type": "code",
   "execution_count": 54,
   "metadata": {},
   "outputs": [],
   "source": [
    "def my_student_info_list(student_info):\n",
    "    print(\"*********************************\")\n",
    "    print(\"-학생이름:\", student_info[0])\n",
    "    print(\"-학급번호:\", student_info[1])\n",
    "    print(\"-전화번호:\", student_info[2])\n",
    "    print(\"*********************************\")"
   ]
  },
  {
   "cell_type": "code",
   "execution_count": 56,
   "metadata": {},
   "outputs": [
    {
     "name": "stdout",
     "output_type": "stream",
     "text": [
      "*********************************\n",
      "-학생이름: 현아\n",
      "-학급번호: 01\n",
      "-전화번호: 01-234-5678\n",
      "*********************************\n"
     ]
    }
   ],
   "source": [
    "student_info = [\"현아\", \"01\", \"01-234-5678\"]\n",
    "my_student_info_list(student_info)"
   ]
  },
  {
   "cell_type": "code",
   "execution_count": null,
   "metadata": {},
   "outputs": [],
   "source": []
  }
 ],
 "metadata": {
  "kernelspec": {
   "display_name": "Python 3",
   "language": "python",
   "name": "python3"
  },
  "language_info": {
   "codemirror_mode": {
    "name": "ipython",
    "version": 3
   },
   "file_extension": ".py",
   "mimetype": "text/x-python",
   "name": "python",
   "nbconvert_exporter": "python",
   "pygments_lexer": "ipython3",
   "version": "3.7.4"
  }
 },
 "nbformat": 4,
 "nbformat_minor": 4
}
